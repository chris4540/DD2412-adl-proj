{
 "cells": [
  {
   "cell_type": "markdown",
   "metadata": {},
   "source": [
    "# algo 1\n",
    "\n",
    "    for total_batches in range(total_n_pseudo_batches):\n",
    "    \n",
    "        z = tf.random.normal([batch_size, z_dim])\n",
    "        pseudo_images = get_gen_images(z)\n",
    "        teacher_logits, *teacher_activations = get_model_outputs(teacher_model, pseudo_images, mode=0)\n",
    "\n",
    "        #generator training\n",
    "        for ng in range(ng_batches):\n",
    "            student_logits, *student_activations = get_model_outputs(student_model, pseudo_images, mode=1)\n",
    "            generator_loss = generator_loss(teacher_logits, student_logits)\n",
    "\n",
    "            #################################\n",
    "            # BACK PROP AND tick schedulers #\n",
    "            #################################  \n",
    "\n",
    "        for ns in range(ns_batches):\n",
    "            student_logits, *student_activations = get_model_outputs(student_model, pseudo_images, mode=1)\n",
    "            student_loss = student_loss(teacher_logits, teacher_activations, \n",
    "                                        student_logits, student_activations, attn_beta)\n",
    "\n",
    "            #################################\n",
    "            # BACK PROP AND tick schedulers #\n",
    "            #################################   \n",
    "\n",
    "        ######################################################\n",
    "        ### Val accuracy computation and best model saving ###\n",
    "        ######################################################    "
   ]
  },
  {
   "cell_type": "code",
   "execution_count": 1,
   "metadata": {},
   "outputs": [],
   "source": [
    "import tensorflow as tf\n",
    "from net.generator import *\n",
    "from utils.cosine_anealing import *\n",
    "from utils.losses import *\n",
    "from tensorflow.keras.optimizers import Adam\n",
    "from net.wide_resnet import WideResidualNetwork\n",
    "from train_scratch import *\n",
    "import numpy as np"
   ]
  },
  {
   "cell_type": "code",
   "execution_count": 2,
   "metadata": {},
   "outputs": [
    {
     "data": {
      "text/plain": [
       "'2.0.0'"
      ]
     },
     "execution_count": 2,
     "metadata": {},
     "output_type": "execute_result"
    }
   ],
   "source": [
    "tf.__version__"
   ]
  },
  {
   "cell_type": "code",
   "execution_count": 3,
   "metadata": {},
   "outputs": [],
   "source": [
    "z_dim = 100\n",
    "batch_size = 128\n",
    "ng_batches = 1\n",
    "ns_batches = 5\n",
    "attn_beta = 250\n",
    "total_n_pseudo_batches = 3\n",
    "n_generator_items = ng_batches + ns_batches\n",
    "student_lr = 2e-3\n",
    "generator_lr = 1e-3\n",
    "number_of_batches = 3\n",
    "\n",
    "teacher_model = WideResidualNetwork(16, 1, input_shape=(32, 32, 3), dropout_rate=0.0, output_activations=True)\n",
    "teacher_model.load_weights('saved_models/cifar10_WRN-16-1_model.005.h5')\n",
    "\n",
    "student_model = WideResidualNetwork(16, 1, input_shape=(32, 32, 3), dropout_rate=0.0, output_activations=True)\n",
    "student_optimizer=Adam(learning_rate=student_lr)\n",
    "student_scheduler = CosineAnnealingScheduler(T_max=number_of_batches, eta_max=student_lr, eta_min=0)\n",
    "\n",
    "generator_model = generator(100)\n",
    "generator_optimizer=Adam(learning_rate=generator_lr)\n",
    "generator_scheduler = CosineAnnealingScheduler(T_max=number_of_batches, eta_max=generator_lr, eta_min=0)\n",
    "\n",
    "student_model.trainable = True\n",
    "teacher_model.trainable = False\n",
    "generator_model.trainable = True\n",
    "\n",
    "gen_loss_metric = tf.keras.metrics.Mean()\n",
    "stu_loss_metric = tf.keras.metrics.Mean()\n",
    "\n",
    "def cosine_lr_schedule(epoch, T_max, eta_max, eta_min=0):\n",
    "    lr = eta_min + (eta_max - eta_min) * (1 + math.cos(math.pi * epoch / T_max)) / 2\n",
    "    return lr"
   ]
  },
  {
   "cell_type": "code",
   "execution_count": 4,
   "metadata": {
    "scrolled": true
   },
   "outputs": [
    {
     "name": "stdout",
     "output_type": "stream",
     "text": [
      "step 0: generator mean loss = tf.Tensor(0.030972525, shape=(), dtype=float32)\n",
      "step 0-0: studnt mean loss = tf.Tensor(0.754063, shape=(), dtype=float32)\n",
      "step 0-1: studnt mean loss = tf.Tensor(0.69976777, shape=(), dtype=float32)\n",
      "step 0-2: studnt mean loss = tf.Tensor(0.5874758, shape=(), dtype=float32)\n",
      "step 0-3: studnt mean loss = tf.Tensor(0.6539779, shape=(), dtype=float32)\n",
      "step 0-4: studnt mean loss = tf.Tensor(0.5643953, shape=(), dtype=float32)\n",
      "step 1: generator mean loss = tf.Tensor(0.017535096, shape=(), dtype=float32)\n",
      "step 1-0: studnt mean loss = tf.Tensor(0.5148973, shape=(), dtype=float32)\n",
      "step 1-1: studnt mean loss = tf.Tensor(0.48786548, shape=(), dtype=float32)\n",
      "step 1-2: studnt mean loss = tf.Tensor(0.46872106, shape=(), dtype=float32)\n",
      "step 1-3: studnt mean loss = tf.Tensor(0.4505159, shape=(), dtype=float32)\n",
      "step 1-4: studnt mean loss = tf.Tensor(0.42963776, shape=(), dtype=float32)\n",
      "step 2: generator mean loss = tf.Tensor(0.012160477, shape=(), dtype=float32)\n",
      "step 2-0: studnt mean loss = tf.Tensor(0.40483215, shape=(), dtype=float32)\n",
      "step 2-1: studnt mean loss = tf.Tensor(0.38155112, shape=(), dtype=float32)\n",
      "step 2-2: studnt mean loss = tf.Tensor(0.3597406, shape=(), dtype=float32)\n",
      "step 2-3: studnt mean loss = tf.Tensor(0.33983448, shape=(), dtype=float32)\n",
      "step 2-4: studnt mean loss = tf.Tensor(0.32245034, shape=(), dtype=float32)\n"
     ]
    }
   ],
   "source": [
    "for total_batches in range(total_n_pseudo_batches):\n",
    "    z = tf.random.normal([batch_size, z_dim])\n",
    "    \n",
    "    #generator training\n",
    "    for ng in range(ng_batches):\n",
    "        with tf.GradientTape() as gtape:\n",
    "            pseudo_images = generator_model(z)\n",
    "            teacher_logits, *teacher_activations = teacher_model(pseudo_images)\n",
    "            student_logits, *student_activations = student_model(pseudo_images)\n",
    "            generator_loss = kd_loss(tf.math.softmax(teacher_logits), tf.math.softmax(student_logits))\n",
    "\n",
    "        gen_grads = gtape.gradient(generator_loss, generator_model.trainable_weights)\n",
    "        \n",
    "        #cosine annealing for learning rate\n",
    "        generator_optimizer.learning_rate = cosine_lr_schedule(total_batches, total_n_pseudo_batches, generator_lr)\n",
    "        \n",
    "        #update gradient\n",
    "        generator_optimizer.apply_gradients(zip(gen_grads, generator_model.trainable_weights))\n",
    "\n",
    "        gen_loss_metric(generator_loss)\n",
    "\n",
    "        print('step %s: generator mean loss = %s' % (total_batches, gen_loss_metric.result()))\n",
    "    \n",
    "    #student training\n",
    "    for ns in range(ns_batches):\n",
    "        with tf.GradientTape() as stape:\n",
    "            pseudo_images = generator_model(z)\n",
    "            teacher_logits, *teacher_activations = teacher_model(pseudo_images)\n",
    "            student_logits, *student_activations = student_model(pseudo_images)\n",
    "            std_loss = student_loss(teacher_logits, teacher_activations, \n",
    "                                student_logits, student_activations, attn_beta)\n",
    "\n",
    "        st_grads = stape.gradient(std_loss, student_model.trainable_weights)\n",
    "        \n",
    "        student_optimizer.learning_rate = cosine_lr_schedule(total_batches, total_n_pseudo_batches, student_lr)\n",
    "        student_optimizer.apply_gradients(zip(st_grads, student_model.trainable_weights))\n",
    "\n",
    "        stu_loss_metric(std_loss)\n",
    "\n",
    "        print('step %s-%s: studnt mean loss = %s' % (total_batches, ns, stu_loss_metric.result()))\n",
    "    "
   ]
  },
  {
   "cell_type": "code",
   "execution_count": null,
   "metadata": {},
   "outputs": [],
   "source": []
  }
 ],
 "metadata": {
  "kernelspec": {
   "display_name": "Python 3",
   "language": "python",
   "name": "python3"
  },
  "language_info": {
   "codemirror_mode": {
    "name": "ipython",
    "version": 3
   },
   "file_extension": ".py",
   "mimetype": "text/x-python",
   "name": "python",
   "nbconvert_exporter": "python",
   "pygments_lexer": "ipython3",
   "version": "3.6.9"
  }
 },
 "nbformat": 4,
 "nbformat_minor": 2
}
