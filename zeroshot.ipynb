{
 "cells": [
  {
   "cell_type": "markdown",
   "metadata": {},
   "source": [
    "# ZeroShot (Algo 1)\n",
    "\n",
    "    for total_batches in range(total_n_pseudo_batches):\n",
    "    \n",
    "        z = tf.random.normal([batch_size, z_dim])\n",
    "        pseudo_images = get_gen_images(z)\n",
    "        teacher_logits, *teacher_activations = get_model_outputs(teacher_model, pseudo_images, mode=0)\n",
    "\n",
    "        #generator training\n",
    "        for ng in range(ng_batches):\n",
    "            student_logits, *student_activations = get_model_outputs(student_model, pseudo_images, mode=1)\n",
    "            generator_loss = generator_loss(teacher_logits, student_logits)\n",
    "\n",
    "            #################################\n",
    "            # BACK PROP AND tick schedulers #\n",
    "            #################################  \n",
    "\n",
    "        for ns in range(ns_batches):\n",
    "            student_logits, *student_activations = get_model_outputs(student_model, pseudo_images, mode=1)\n",
    "            student_loss = student_loss(teacher_logits, teacher_activations, \n",
    "                                        student_logits, student_activations, attn_beta)\n",
    "\n",
    "            #################################\n",
    "            # BACK PROP AND tick schedulers #\n",
    "            #################################   \n",
    "\n",
    "        ######################################################\n",
    "        ### Val accuracy computation and best model saving ###\n",
    "        ######################################################    "
   ]
  },
  {
   "cell_type": "code",
   "execution_count": 2,
   "metadata": {},
   "outputs": [],
   "source": [
    "import tensorflow as tf\n",
    "from net.generator import NavieGenerator\n",
    "from utils.cosine_anealing import CosineAnnealingScheduler\n",
    "from utils.losses import kd_loss\n",
    "from utils.losses import student_loss_fn\n",
    "from tensorflow.keras.optimizers import Adam\n",
    "from net.wide_resnet import WideResidualNetwork\n",
    "from tensorflow.keras.experimental import CosineDecay\n",
    "import numpy as np"
   ]
  },
  {
   "cell_type": "code",
   "execution_count": 3,
   "metadata": {},
   "outputs": [
    {
     "data": {
      "text/plain": [
       "'2.0.0'"
      ]
     },
     "execution_count": 3,
     "metadata": {},
     "output_type": "execute_result"
    }
   ],
   "source": [
    "tf.__version__"
   ]
  },
  {
   "cell_type": "code",
   "execution_count": 9,
   "metadata": {},
   "outputs": [],
   "source": [
    "z_dim = 100\n",
    "batch_size = 128\n",
    "ng_batches = 1\n",
    "ns_batches = 5\n",
    "attn_beta = 250\n",
    "total_n_pseudo_batches = 3\n",
    "n_generator_items = ng_batches + ns_batches\n",
    "student_lr = 2e-3\n",
    "generator_lr = 1e-3\n",
    "number_of_batches = 3\n",
    "\n",
    "teacher = WideResidualNetwork(16, 1, input_shape=(32, 32, 3), dropout_rate=0.0, output_activations=True)\n",
    "teacher.load_weights('saved_models/cifar10_WRN-16-1_model.005.h5')\n",
    "teacher.trainable = False\n",
    "\n",
    "student = WideResidualNetwork(16, 1, input_shape=(32, 32, 3), dropout_rate=0.0, output_activations=True)\n",
    "student_optimizer = Adam(learning_rate=CosineDecay(student_lr, number_of_batches))\n",
    "\n",
    "generator = NavieGenerator(input_dim=100)\n",
    "generator_optimizer = Adam(learning_rate=CosineDecay(generator_lr, number_of_batches))\n",
    "\n",
    "# Generator loss metrics\n",
    "g_loss_met = tf.keras.metrics.Mean()\n",
    "# Student loss metrics\n",
    "stu_loss_met = tf.keras.metrics.Mean()"
   ]
  },
  {
   "cell_type": "code",
   "execution_count": 10,
   "metadata": {},
   "outputs": [
    {
     "name": "stdout",
     "output_type": "stream",
     "text": [
      "step 0: generator mean loss = tf.Tensor(0.016730428, shape=(), dtype=float32)\n",
      "step 0-0: studnt mean loss = tf.Tensor(0.016759966, shape=(), dtype=float32)\n",
      "step 0-1: studnt mean loss = tf.Tensor(0.016232062, shape=(), dtype=float32)\n",
      "step 0-2: studnt mean loss = tf.Tensor(0.015124943, shape=(), dtype=float32)\n",
      "step 0-3: studnt mean loss = tf.Tensor(0.014083632, shape=(), dtype=float32)\n",
      "step 0-4: studnt mean loss = tf.Tensor(0.013458845, shape=(), dtype=float32)\n",
      "step 1: generator mean loss = tf.Tensor(0.01038218, shape=(), dtype=float32)\n",
      "step 1-0: studnt mean loss = tf.Tensor(0.01189079, shape=(), dtype=float32)\n",
      "step 1-1: studnt mean loss = tf.Tensor(0.010770751, shape=(), dtype=float32)\n",
      "step 1-2: studnt mean loss = tf.Tensor(0.0099307215, shape=(), dtype=float32)\n",
      "step 1-3: studnt mean loss = tf.Tensor(0.009277365, shape=(), dtype=float32)\n",
      "step 1-4: studnt mean loss = tf.Tensor(0.00875468, shape=(), dtype=float32)\n",
      "step 2: generator mean loss = tf.Tensor(0.008025792, shape=(), dtype=float32)\n",
      "step 2-0: studnt mean loss = tf.Tensor(0.00826159, shape=(), dtype=float32)\n",
      "step 2-1: studnt mean loss = tf.Tensor(0.007850681, shape=(), dtype=float32)\n",
      "step 2-2: studnt mean loss = tf.Tensor(0.007502989, shape=(), dtype=float32)\n",
      "step 2-3: studnt mean loss = tf.Tensor(0.0072049676, shape=(), dtype=float32)\n",
      "step 2-4: studnt mean loss = tf.Tensor(0.006946682, shape=(), dtype=float32)\n"
     ]
    }
   ],
   "source": [
    "for total_batches in range(total_n_pseudo_batches):\n",
    "    # sample from latern space to make an image\n",
    "    z = tf.random.normal([batch_size, z_dim])\n",
    "\n",
    "    # Generator training\n",
    "    generator.trainable = True\n",
    "    student.trainable = False\n",
    "    for ng in range(ng_batches):\n",
    "        with tf.GradientTape() as tape:\n",
    "            pseudo_imgs = generator(z)\n",
    "            t_logits, *_ = teacher(pseudo_imgs)\n",
    "            s_logits, *_ = student(pseudo_imgs)\n",
    "\n",
    "            # calculate the generator loss\n",
    "            loss = kd_loss(tf.math.softmax(t_logits),\n",
    "                                     tf.math.softmax(s_logits))\n",
    "\n",
    "        # The grad for generator\n",
    "        grads = tape.gradient(loss, generator.trainable_weights)\n",
    "\n",
    "        # update the generator paramter with the gradient\n",
    "        generator_optimizer.apply_gradients(zip(grads, generator.trainable_weights))\n",
    "\n",
    "        g_loss_met(loss)\n",
    "\n",
    "        print('step %s: generator mean loss = %s' % (total_batches, g_loss_met.result()))\n",
    "    # ==========================================================================\n",
    "\n",
    "    # Student training\n",
    "    generator.trainable = False\n",
    "    student.trainable = True\n",
    "    for ns in range(ns_batches):\n",
    "\n",
    "        t_logits, *t_acts = teacher(pseudo_imgs)\n",
    "        with tf.GradientTape() as tape:\n",
    "            s_logits, *s_acts = student(pseudo_imgs)\n",
    "            loss = student_loss_fn(tf.math.softmax(t_logits), t_acts, tf.math.softmax(s_logits), s_acts, attn_beta)\n",
    "\n",
    "        # The grad for student\n",
    "        grads = tape.gradient(loss, student.trainable_weights)\n",
    "\n",
    "        # Apply grad for student\n",
    "        student_optimizer.apply_gradients(zip(grads, student.trainable_weights))\n",
    "\n",
    "        stu_loss_met(loss)\n",
    "\n",
    "        print('step %s-%s: studnt mean loss = %s' % (total_batches, ns, stu_loss_met.result()))\n"
   ]
  },
  {
   "cell_type": "code",
   "execution_count": null,
   "metadata": {},
   "outputs": [],
   "source": []
  },
  {
   "cell_type": "code",
   "execution_count": null,
   "metadata": {},
   "outputs": [],
   "source": []
  },
  {
   "cell_type": "code",
   "execution_count": null,
   "metadata": {},
   "outputs": [],
   "source": []
  },
  {
   "cell_type": "code",
   "execution_count": null,
   "metadata": {},
   "outputs": [],
   "source": []
  },
  {
   "cell_type": "code",
   "execution_count": null,
   "metadata": {},
   "outputs": [],
   "source": []
  },
  {
   "cell_type": "code",
   "execution_count": null,
   "metadata": {},
   "outputs": [],
   "source": []
  },
  {
   "cell_type": "code",
   "execution_count": null,
   "metadata": {},
   "outputs": [],
   "source": []
  },
  {
   "cell_type": "code",
   "execution_count": null,
   "metadata": {},
   "outputs": [],
   "source": []
  }
 ],
 "metadata": {
  "kernelspec": {
   "display_name": "Python 3",
   "language": "python",
   "name": "python3"
  },
  "language_info": {
   "codemirror_mode": {
    "name": "ipython",
    "version": 3
   },
   "file_extension": ".py",
   "mimetype": "text/x-python",
   "name": "python",
   "nbconvert_exporter": "python",
   "pygments_lexer": "ipython3",
   "version": "3.6.9"
  }
 },
 "nbformat": 4,
 "nbformat_minor": 2
}
