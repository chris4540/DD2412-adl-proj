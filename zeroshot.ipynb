{
 "cells": [
  {
   "cell_type": "markdown",
   "metadata": {},
   "source": [
    "# algo 1\n",
    "\n",
    "    for total_batches in range(total_n_pseudo_batches):\n",
    "    \n",
    "        z = tf.random.normal([batch_size, z_dim])\n",
    "        pseudo_images = get_gen_images(z)\n",
    "        teacher_logits, *teacher_activations = get_model_outputs(teacher_model, pseudo_images, mode=0)\n",
    "\n",
    "        #generator training\n",
    "        for ng in range(ng_batches):\n",
    "            student_logits, *student_activations = get_model_outputs(student_model, pseudo_images, mode=1)\n",
    "            generator_loss = generator_loss(teacher_logits, student_logits)\n",
    "\n",
    "            #################################\n",
    "            # BACK PROP AND tick schedulers #\n",
    "            #################################  \n",
    "\n",
    "        for ns in range(ns_batches):\n",
    "            student_logits, *student_activations = get_model_outputs(student_model, pseudo_images, mode=1)\n",
    "            student_loss = student_loss(teacher_logits, teacher_activations, \n",
    "                                        student_logits, student_activations, attn_beta)\n",
    "\n",
    "            #################################\n",
    "            # BACK PROP AND tick schedulers #\n",
    "            #################################   \n",
    "\n",
    "        ######################################################\n",
    "        ### Val accuracy computation and best model saving ###\n",
    "        ######################################################    "
   ]
  },
  {
   "cell_type": "code",
   "execution_count": 1,
   "metadata": {},
   "outputs": [],
   "source": [
    "import tensorflow as tf\n",
    "from net.generator import *\n",
    "from utils.cosine_anealing import *\n",
    "from utils.losses import *\n",
    "from tensorflow.keras.optimizers import Adam\n",
    "from net.wide_resnet import WideResidualNetwork\n",
    "from train_scratch import *\n",
    "import numpy as np"
   ]
  },
  {
   "cell_type": "code",
   "execution_count": 2,
   "metadata": {},
   "outputs": [
    {
     "data": {
      "text/plain": [
       "'2.0.0'"
      ]
     },
     "execution_count": 2,
     "metadata": {},
     "output_type": "execute_result"
    }
   ],
   "source": [
    "tf.__version__"
   ]
  },
  {
   "cell_type": "code",
   "execution_count": 3,
   "metadata": {},
   "outputs": [],
   "source": [
    "z_dim = 100\n",
    "batch_size = 128\n",
    "ng_batches = 1\n",
    "ns_batches = 10\n",
    "attn_beta = 250\n",
    "total_n_pseudo_batches = 20\n",
    "n_generator_items = ng_batches + ns_batches\n",
    "total_batches = 0\n",
    "student_lr = 2e-3\n",
    "generator_lr = 1e-3\n",
    "number_of_batches = 10\n",
    "\n",
    "teacher_model = WideResidualNetwork(16, 1, input_shape=(32, 32, 3), dropout_rate=0.0, output_activations=True)\n",
    "teacher_model.load_weights('saved_models/cifar10_WRN-16-1_model.005.h5')\n",
    "\n",
    "student_model = WideResidualNetwork(16, 1, input_shape=(32, 32, 3), dropout_rate=0.0, output_activations=True)\n",
    "student_optimizer=Adam(learning_rate=student_lr)\n",
    "student_scheduler = CosineAnnealingScheduler(T_max=number_of_batches, eta_max=student_lr, eta_min=0)\n",
    "\n",
    "generator_model = generator(100)\n",
    "generator_optimizer=Adam(learning_rate=generator_lr)\n",
    "generator_scheduler = CosineAnnealingScheduler(T_max=number_of_batches, eta_max=generator_lr, eta_min=0)\n",
    "\n",
    "student_model.trainable = True\n",
    "teacher_model.trainable = False\n",
    "generator_model.trainable = True\n",
    "\n",
    "gen_loss_metric = tf.keras.metrics.Mean()\n",
    "stu_loss_metric = tf.keras.metrics.Mean()\n",
    "\n",
    "def cosine_lr_schedule(epoch, T_max, eta_max, eta_min=0):\n",
    "    lr = eta_min + (eta_max - eta_min) * (1 + math.cos(math.pi * epoch / T_max)) / 2\n",
    "    return lr"
   ]
  },
  {
   "cell_type": "code",
   "execution_count": 4,
   "metadata": {
    "scrolled": true
   },
   "outputs": [
    {
     "name": "stdout",
     "output_type": "stream",
     "text": [
      "step 0: generator mean loss = tf.Tensor(0.029369175, shape=(), dtype=float32)\n",
      "step 0: studnt mean loss = tf.Tensor(0.5520117, shape=(), dtype=float32)\n",
      "step 0: studnt mean loss = tf.Tensor(0.5042592, shape=(), dtype=float32)\n",
      "step 0: studnt mean loss = tf.Tensor(0.4240086, shape=(), dtype=float32)\n",
      "step 0: studnt mean loss = tf.Tensor(0.5781355, shape=(), dtype=float32)\n",
      "step 0: studnt mean loss = tf.Tensor(0.49286404, shape=(), dtype=float32)\n",
      "step 0: studnt mean loss = tf.Tensor(0.44609857, shape=(), dtype=float32)\n",
      "step 0: studnt mean loss = tf.Tensor(0.42264956, shape=(), dtype=float32)\n",
      "step 0: studnt mean loss = tf.Tensor(0.4085915, shape=(), dtype=float32)\n",
      "step 0: studnt mean loss = tf.Tensor(0.39760673, shape=(), dtype=float32)\n",
      "step 0: studnt mean loss = tf.Tensor(0.3868398, shape=(), dtype=float32)\n",
      "step 2: generator mean loss = tf.Tensor(0.011324574, shape=(), dtype=float32)\n",
      "step 2: studnt mean loss = tf.Tensor(0.23925196, shape=(), dtype=float32)\n",
      "step 2: studnt mean loss = tf.Tensor(0.2333447, shape=(), dtype=float32)\n",
      "step 2: studnt mean loss = tf.Tensor(0.22482936, shape=(), dtype=float32)\n",
      "step 2: studnt mean loss = tf.Tensor(0.216347, shape=(), dtype=float32)\n",
      "step 2: studnt mean loss = tf.Tensor(0.2093057, shape=(), dtype=float32)\n",
      "step 2: studnt mean loss = tf.Tensor(0.20231517, shape=(), dtype=float32)\n",
      "step 2: studnt mean loss = tf.Tensor(0.19556476, shape=(), dtype=float32)\n",
      "step 2: studnt mean loss = tf.Tensor(0.18971875, shape=(), dtype=float32)\n",
      "step 2: studnt mean loss = tf.Tensor(0.1845704, shape=(), dtype=float32)\n",
      "step 2: studnt mean loss = tf.Tensor(0.17962761, shape=(), dtype=float32)\n",
      "step 4: generator mean loss = tf.Tensor(0.0068934546, shape=(), dtype=float32)\n",
      "step 4: studnt mean loss = tf.Tensor(0.13608904, shape=(), dtype=float32)\n",
      "step 4: studnt mean loss = tf.Tensor(0.13312311, shape=(), dtype=float32)\n",
      "step 4: studnt mean loss = tf.Tensor(0.13034335, shape=(), dtype=float32)\n",
      "step 4: studnt mean loss = tf.Tensor(0.12758595, shape=(), dtype=float32)\n",
      "step 4: studnt mean loss = tf.Tensor(0.12488641, shape=(), dtype=float32)\n",
      "step 4: studnt mean loss = tf.Tensor(0.12235179, shape=(), dtype=float32)\n",
      "step 4: studnt mean loss = tf.Tensor(0.119969286, shape=(), dtype=float32)\n",
      "step 4: studnt mean loss = tf.Tensor(0.11764904, shape=(), dtype=float32)\n",
      "step 4: studnt mean loss = tf.Tensor(0.1153617, shape=(), dtype=float32)\n",
      "step 4: studnt mean loss = tf.Tensor(0.11316219, shape=(), dtype=float32)\n",
      "step 6: generator mean loss = tf.Tensor(0.004939311, shape=(), dtype=float32)\n",
      "step 6: studnt mean loss = tf.Tensor(0.09376641, shape=(), dtype=float32)\n",
      "step 6: studnt mean loss = tf.Tensor(0.09232251, shape=(), dtype=float32)\n",
      "step 6: studnt mean loss = tf.Tensor(0.09091621, shape=(), dtype=float32)\n",
      "step 6: studnt mean loss = tf.Tensor(0.08956244, shape=(), dtype=float32)\n",
      "step 6: studnt mean loss = tf.Tensor(0.088255435, shape=(), dtype=float32)\n",
      "step 6: studnt mean loss = tf.Tensor(0.08697946, shape=(), dtype=float32)\n",
      "step 6: studnt mean loss = tf.Tensor(0.08573191, shape=(), dtype=float32)\n",
      "step 6: studnt mean loss = tf.Tensor(0.08452255, shape=(), dtype=float32)\n",
      "step 6: studnt mean loss = tf.Tensor(0.08335411, shape=(), dtype=float32)\n",
      "step 6: studnt mean loss = tf.Tensor(0.08221701, shape=(), dtype=float32)\n",
      "step 8: generator mean loss = tf.Tensor(0.0038459008, shape=(), dtype=float32)\n"
     ]
    },
    {
     "ename": "KeyboardInterrupt",
     "evalue": "",
     "output_type": "error",
     "traceback": [
      "\u001b[1;31m---------------------------------------------------------------------------\u001b[0m",
      "\u001b[1;31mKeyboardInterrupt\u001b[0m                         Traceback (most recent call last)",
      "\u001b[1;32m<ipython-input-4-a62cf5180eb8>\u001b[0m in \u001b[0;36m<module>\u001b[1;34m\u001b[0m\n\u001b[0;32m     34\u001b[0m                                 student_logits, student_activations, attn_beta)\n\u001b[0;32m     35\u001b[0m \u001b[1;33m\u001b[0m\u001b[0m\n\u001b[1;32m---> 36\u001b[1;33m         \u001b[0mst_grads\u001b[0m \u001b[1;33m=\u001b[0m \u001b[0mstape\u001b[0m\u001b[1;33m.\u001b[0m\u001b[0mgradient\u001b[0m\u001b[1;33m(\u001b[0m\u001b[0mstd_loss\u001b[0m\u001b[1;33m,\u001b[0m \u001b[0mstudent_model\u001b[0m\u001b[1;33m.\u001b[0m\u001b[0mtrainable_weights\u001b[0m\u001b[1;33m)\u001b[0m\u001b[1;33m\u001b[0m\u001b[1;33m\u001b[0m\u001b[0m\n\u001b[0m\u001b[0;32m     37\u001b[0m \u001b[1;33m\u001b[0m\u001b[0m\n\u001b[0;32m     38\u001b[0m         \u001b[0mstudent_optimizer\u001b[0m\u001b[1;33m.\u001b[0m\u001b[0mlearning_rate\u001b[0m \u001b[1;33m=\u001b[0m \u001b[0mcosine_lr_schedule\u001b[0m\u001b[1;33m(\u001b[0m\u001b[0mtotal_batches\u001b[0m\u001b[1;33m,\u001b[0m \u001b[0mtotal_n_pseudo_batches\u001b[0m\u001b[1;33m,\u001b[0m \u001b[0mstudent_lr\u001b[0m\u001b[1;33m)\u001b[0m\u001b[1;33m\u001b[0m\u001b[1;33m\u001b[0m\u001b[0m\n",
      "\u001b[1;32m~\\AppData\\Roaming\\Python\\Python36\\site-packages\\tensorflow_core\\python\\eager\\backprop.py\u001b[0m in \u001b[0;36mgradient\u001b[1;34m(self, target, sources, output_gradients, unconnected_gradients)\u001b[0m\n\u001b[0;32m   1012\u001b[0m         \u001b[0moutput_gradients\u001b[0m\u001b[1;33m=\u001b[0m\u001b[0moutput_gradients\u001b[0m\u001b[1;33m,\u001b[0m\u001b[1;33m\u001b[0m\u001b[1;33m\u001b[0m\u001b[0m\n\u001b[0;32m   1013\u001b[0m         \u001b[0msources_raw\u001b[0m\u001b[1;33m=\u001b[0m\u001b[0mflat_sources_raw\u001b[0m\u001b[1;33m,\u001b[0m\u001b[1;33m\u001b[0m\u001b[1;33m\u001b[0m\u001b[0m\n\u001b[1;32m-> 1014\u001b[1;33m         unconnected_gradients=unconnected_gradients)\n\u001b[0m\u001b[0;32m   1015\u001b[0m \u001b[1;33m\u001b[0m\u001b[0m\n\u001b[0;32m   1016\u001b[0m     \u001b[1;32mif\u001b[0m \u001b[1;32mnot\u001b[0m \u001b[0mself\u001b[0m\u001b[1;33m.\u001b[0m\u001b[0m_persistent\u001b[0m\u001b[1;33m:\u001b[0m\u001b[1;33m\u001b[0m\u001b[1;33m\u001b[0m\u001b[0m\n",
      "\u001b[1;32m~\\AppData\\Roaming\\Python\\Python36\\site-packages\\tensorflow_core\\python\\eager\\imperative_grad.py\u001b[0m in \u001b[0;36mimperative_grad\u001b[1;34m(tape, target, sources, output_gradients, sources_raw, unconnected_gradients)\u001b[0m\n\u001b[0;32m     74\u001b[0m       \u001b[0moutput_gradients\u001b[0m\u001b[1;33m,\u001b[0m\u001b[1;33m\u001b[0m\u001b[1;33m\u001b[0m\u001b[0m\n\u001b[0;32m     75\u001b[0m       \u001b[0msources_raw\u001b[0m\u001b[1;33m,\u001b[0m\u001b[1;33m\u001b[0m\u001b[1;33m\u001b[0m\u001b[0m\n\u001b[1;32m---> 76\u001b[1;33m       compat.as_str(unconnected_gradients.value))\n\u001b[0m",
      "\u001b[1;32m~\\AppData\\Roaming\\Python\\Python36\\site-packages\\tensorflow_core\\python\\eager\\backprop.py\u001b[0m in \u001b[0;36m_gradient_function\u001b[1;34m(op_name, attr_tuple, num_inputs, inputs, outputs, out_grads, skip_input_indices)\u001b[0m\n\u001b[0;32m    136\u001b[0m     \u001b[1;32mreturn\u001b[0m \u001b[1;33m[\u001b[0m\u001b[1;32mNone\u001b[0m\u001b[1;33m]\u001b[0m \u001b[1;33m*\u001b[0m \u001b[0mnum_inputs\u001b[0m\u001b[1;33m\u001b[0m\u001b[1;33m\u001b[0m\u001b[0m\n\u001b[0;32m    137\u001b[0m \u001b[1;33m\u001b[0m\u001b[0m\n\u001b[1;32m--> 138\u001b[1;33m   \u001b[1;32mreturn\u001b[0m \u001b[0mgrad_fn\u001b[0m\u001b[1;33m(\u001b[0m\u001b[0mmock_op\u001b[0m\u001b[1;33m,\u001b[0m \u001b[1;33m*\u001b[0m\u001b[0mout_grads\u001b[0m\u001b[1;33m)\u001b[0m\u001b[1;33m\u001b[0m\u001b[1;33m\u001b[0m\u001b[0m\n\u001b[0m\u001b[0;32m    139\u001b[0m \u001b[1;33m\u001b[0m\u001b[0m\n\u001b[0;32m    140\u001b[0m \u001b[1;33m\u001b[0m\u001b[0m\n",
      "\u001b[1;32m~\\AppData\\Roaming\\Python\\Python36\\site-packages\\tensorflow_core\\python\\ops\\nn_grad.py\u001b[0m in \u001b[0;36m_FusedBatchNormV3Grad\u001b[1;34m(op, *grad)\u001b[0m\n\u001b[0;32m    924\u001b[0m \u001b[1;33m@\u001b[0m\u001b[0mops\u001b[0m\u001b[1;33m.\u001b[0m\u001b[0mRegisterGradient\u001b[0m\u001b[1;33m(\u001b[0m\u001b[1;34m\"FusedBatchNormV3\"\u001b[0m\u001b[1;33m)\u001b[0m\u001b[1;33m\u001b[0m\u001b[1;33m\u001b[0m\u001b[0m\n\u001b[0;32m    925\u001b[0m \u001b[1;32mdef\u001b[0m \u001b[0m_FusedBatchNormV3Grad\u001b[0m\u001b[1;33m(\u001b[0m\u001b[0mop\u001b[0m\u001b[1;33m,\u001b[0m \u001b[1;33m*\u001b[0m\u001b[0mgrad\u001b[0m\u001b[1;33m)\u001b[0m\u001b[1;33m:\u001b[0m\u001b[1;33m\u001b[0m\u001b[1;33m\u001b[0m\u001b[0m\n\u001b[1;32m--> 926\u001b[1;33m   \u001b[1;32mreturn\u001b[0m \u001b[0m_BaseFusedBatchNormGrad\u001b[0m\u001b[1;33m(\u001b[0m\u001b[0mop\u001b[0m\u001b[1;33m,\u001b[0m \u001b[1;36m2\u001b[0m\u001b[1;33m,\u001b[0m \u001b[1;33m*\u001b[0m\u001b[0mgrad\u001b[0m\u001b[1;33m)\u001b[0m\u001b[1;33m\u001b[0m\u001b[1;33m\u001b[0m\u001b[0m\n\u001b[0m\u001b[0;32m    927\u001b[0m \u001b[1;33m\u001b[0m\u001b[0m\n\u001b[0;32m    928\u001b[0m \u001b[1;33m\u001b[0m\u001b[0m\n",
      "\u001b[1;32m~\\AppData\\Roaming\\Python\\Python36\\site-packages\\tensorflow_core\\python\\ops\\nn_grad.py\u001b[0m in \u001b[0;36m_BaseFusedBatchNormGrad\u001b[1;34m(op, version, *grad)\u001b[0m\n\u001b[0;32m    907\u001b[0m     \u001b[1;32mif\u001b[0m \u001b[0mversion\u001b[0m \u001b[1;33m==\u001b[0m \u001b[1;36m2\u001b[0m\u001b[1;33m:\u001b[0m\u001b[1;33m\u001b[0m\u001b[1;33m\u001b[0m\u001b[0m\n\u001b[0;32m    908\u001b[0m       \u001b[0margs\u001b[0m\u001b[1;33m[\u001b[0m\u001b[1;34m\"reserve_space_3\"\u001b[0m\u001b[1;33m]\u001b[0m \u001b[1;33m=\u001b[0m \u001b[0mop\u001b[0m\u001b[1;33m.\u001b[0m\u001b[0moutputs\u001b[0m\u001b[1;33m[\u001b[0m\u001b[1;36m5\u001b[0m\u001b[1;33m]\u001b[0m\u001b[1;33m\u001b[0m\u001b[1;33m\u001b[0m\u001b[0m\n\u001b[1;32m--> 909\u001b[1;33m     \u001b[0mdx\u001b[0m\u001b[1;33m,\u001b[0m \u001b[0mdscale\u001b[0m\u001b[1;33m,\u001b[0m \u001b[0mdoffset\u001b[0m\u001b[1;33m,\u001b[0m \u001b[0m_\u001b[0m\u001b[1;33m,\u001b[0m \u001b[0m_\u001b[0m \u001b[1;33m=\u001b[0m \u001b[0mgrad_fun\u001b[0m\u001b[1;33m(\u001b[0m\u001b[1;33m**\u001b[0m\u001b[0margs\u001b[0m\u001b[1;33m)\u001b[0m\u001b[1;33m\u001b[0m\u001b[1;33m\u001b[0m\u001b[0m\n\u001b[0m\u001b[0;32m    910\u001b[0m     \u001b[1;32mif\u001b[0m \u001b[0mdata_format\u001b[0m \u001b[1;33m==\u001b[0m \u001b[1;34mb\"NCHW\"\u001b[0m\u001b[1;33m:\u001b[0m\u001b[1;33m\u001b[0m\u001b[1;33m\u001b[0m\u001b[0m\n\u001b[0;32m    911\u001b[0m       \u001b[0mdx\u001b[0m \u001b[1;33m=\u001b[0m \u001b[0marray_ops\u001b[0m\u001b[1;33m.\u001b[0m\u001b[0mtranspose\u001b[0m\u001b[1;33m(\u001b[0m\u001b[0mdx\u001b[0m\u001b[1;33m,\u001b[0m \u001b[1;33m[\u001b[0m\u001b[1;36m0\u001b[0m\u001b[1;33m,\u001b[0m \u001b[1;36m3\u001b[0m\u001b[1;33m,\u001b[0m \u001b[1;36m1\u001b[0m\u001b[1;33m,\u001b[0m \u001b[1;36m2\u001b[0m\u001b[1;33m]\u001b[0m\u001b[1;33m)\u001b[0m\u001b[1;33m\u001b[0m\u001b[1;33m\u001b[0m\u001b[0m\n",
      "\u001b[1;32m~\\AppData\\Roaming\\Python\\Python36\\site-packages\\tensorflow_core\\python\\ops\\gen_nn_ops.py\u001b[0m in \u001b[0;36mfused_batch_norm_grad_v3\u001b[1;34m(y_backprop, x, scale, reserve_space_1, reserve_space_2, reserve_space_3, epsilon, data_format, is_training, name)\u001b[0m\n\u001b[0;32m   4324\u001b[0m         \u001b[0my_backprop\u001b[0m\u001b[1;33m,\u001b[0m \u001b[0mx\u001b[0m\u001b[1;33m,\u001b[0m \u001b[0mscale\u001b[0m\u001b[1;33m,\u001b[0m \u001b[0mreserve_space_1\u001b[0m\u001b[1;33m,\u001b[0m \u001b[0mreserve_space_2\u001b[0m\u001b[1;33m,\u001b[0m\u001b[1;33m\u001b[0m\u001b[1;33m\u001b[0m\u001b[0m\n\u001b[0;32m   4325\u001b[0m         \u001b[0mreserve_space_3\u001b[0m\u001b[1;33m,\u001b[0m \u001b[1;34m\"epsilon\"\u001b[0m\u001b[1;33m,\u001b[0m \u001b[0mepsilon\u001b[0m\u001b[1;33m,\u001b[0m \u001b[1;34m\"data_format\"\u001b[0m\u001b[1;33m,\u001b[0m \u001b[0mdata_format\u001b[0m\u001b[1;33m,\u001b[0m\u001b[1;33m\u001b[0m\u001b[1;33m\u001b[0m\u001b[0m\n\u001b[1;32m-> 4326\u001b[1;33m         \"is_training\", is_training)\n\u001b[0m\u001b[0;32m   4327\u001b[0m       \u001b[0m_result\u001b[0m \u001b[1;33m=\u001b[0m \u001b[0m_FusedBatchNormGradV3Output\u001b[0m\u001b[1;33m.\u001b[0m\u001b[0m_make\u001b[0m\u001b[1;33m(\u001b[0m\u001b[0m_result\u001b[0m\u001b[1;33m)\u001b[0m\u001b[1;33m\u001b[0m\u001b[1;33m\u001b[0m\u001b[0m\n\u001b[0;32m   4328\u001b[0m       \u001b[1;32mreturn\u001b[0m \u001b[0m_result\u001b[0m\u001b[1;33m\u001b[0m\u001b[1;33m\u001b[0m\u001b[0m\n",
      "\u001b[1;31mKeyboardInterrupt\u001b[0m: "
     ]
    }
   ],
   "source": [
    "for total_batches in range(total_n_pseudo_batches):\n",
    "    z = tf.random.normal([batch_size, z_dim])\n",
    "    #pseudo_images = generator_model(z)\n",
    "    #teacher_logits, *teacher_activations = get(teacher_model, pseudo_images, mode=0)\n",
    "    #teacher_logits, *teacher_activations = t_model(pseudo_images)\n",
    "\n",
    "    #generator training\n",
    "    for ng in range(ng_batches):\n",
    "        with tf.GradientTape() as gtape:\n",
    "            pseudo_images = generator_model(z)\n",
    "            teacher_logits, *teacher_activations = teacher_model(pseudo_images)\n",
    "            student_logits, *student_activations = student_model(pseudo_images)\n",
    "            generator_loss = kd_loss(tf.math.softmax(teacher_logits), tf.math.softmax(student_logits))\n",
    "\n",
    "        gen_grads = gtape.gradient(generator_loss, generator_model.trainable_weights)\n",
    "        \n",
    "        #cosine annealing for learning rate\n",
    "        generator_optimizer.learning_rate = cosine_lr_schedule(total_batches, total_n_pseudo_batches, generator_lr)\n",
    "        \n",
    "        #update gradient\n",
    "        generator_optimizer.apply_gradients(zip(gen_grads, generator_model.trainable_weights))\n",
    "\n",
    "        gen_loss_metric(generator_loss)\n",
    "\n",
    "        if total_batches % 2 == 0:\n",
    "            print('step %s: generator mean loss = %s' % (total_batches, gen_loss_metric.result()))\n",
    "    \n",
    "    for ns in range(ns_batches):\n",
    "        with tf.GradientTape() as stape:\n",
    "            pseudo_images = generator_model(z)\n",
    "            teacher_logits, *teacher_activations = teacher_model(pseudo_images)\n",
    "            student_logits, *student_activations = student_model(pseudo_images)\n",
    "            std_loss = student_loss(teacher_logits, teacher_activations, \n",
    "                                student_logits, student_activations, attn_beta)\n",
    "\n",
    "        st_grads = stape.gradient(std_loss, student_model.trainable_weights)\n",
    "        \n",
    "        student_optimizer.learning_rate = cosine_lr_schedule(total_batches, total_n_pseudo_batches, student_lr)\n",
    "        student_optimizer.apply_gradients(zip(st_grads, student_model.trainable_weights))\n",
    "\n",
    "        stu_loss_metric(std_loss)\n",
    "\n",
    "        if total_batches % 2 == 0:\n",
    "            print('step %s: studnt mean loss = %s' % (total_batches, stu_loss_metric.result()))\n",
    "    "
   ]
  },
  {
   "cell_type": "code",
   "execution_count": null,
   "metadata": {},
   "outputs": [],
   "source": []
  }
 ],
 "metadata": {
  "kernelspec": {
   "display_name": "Python 3",
   "language": "python",
   "name": "python3"
  },
  "language_info": {
   "codemirror_mode": {
    "name": "ipython",
    "version": 3
   },
   "file_extension": ".py",
   "mimetype": "text/x-python",
   "name": "python",
   "nbconvert_exporter": "python",
   "pygments_lexer": "ipython3",
   "version": "3.6.9"
  }
 },
 "nbformat": 4,
 "nbformat_minor": 2
}
