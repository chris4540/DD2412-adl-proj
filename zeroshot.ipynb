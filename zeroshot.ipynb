{
 "cells": [
  {
   "cell_type": "markdown",
   "metadata": {},
   "source": [
    "# ZeroShot (Algo 1)\n",
    "\n",
    "    for total_batches in range(total_n_pseudo_batches):\n",
    "    \n",
    "        z = tf.random.normal([batch_size, z_dim])\n",
    "        pseudo_images = get_gen_images(z)\n",
    "        teacher_logits, *teacher_activations = get_model_outputs(teacher_model, pseudo_images, mode=0)\n",
    "\n",
    "        #generator training\n",
    "        for ng in range(ng_batches):\n",
    "            student_logits, *student_activations = get_model_outputs(student_model, pseudo_images, mode=1)\n",
    "            generator_loss = generator_loss(teacher_logits, student_logits)\n",
    "\n",
    "            #################################\n",
    "            # BACK PROP AND tick schedulers #\n",
    "            #################################  \n",
    "\n",
    "        for ns in range(ns_batches):\n",
    "            student_logits, *student_activations = get_model_outputs(student_model, pseudo_images, mode=1)\n",
    "            student_loss = student_loss(teacher_logits, teacher_activations, \n",
    "                                        student_logits, student_activations, attn_beta)\n",
    "\n",
    "            #################################\n",
    "            # BACK PROP AND tick schedulers #\n",
    "            #################################   \n",
    "\n",
    "        ######################################################\n",
    "        ### Val accuracy computation and best model saving ###\n",
    "        ######################################################    "
   ]
  },
  {
   "cell_type": "code",
   "execution_count": 2,
   "metadata": {},
   "outputs": [],
   "source": [
    "import tensorflow as tf\n",
    "from net.generator import NavieGenerator\n",
    "from utils.cosine_anealing import CosineAnnealingScheduler\n",
    "from utils.losses import kd_loss\n",
    "from utils.losses import student_loss_fn\n",
    "from tensorflow.keras.optimizers import Adam\n",
    "from net.wide_resnet import WideResidualNetwork\n",
    "from tensorflow.keras.experimental import CosineDecay\n",
    "import numpy as np"
   ]
  },
  {
   "cell_type": "code",
   "execution_count": 3,
   "metadata": {},
   "outputs": [
    {
     "data": {
      "text/plain": [
       "'2.0.0'"
      ]
     },
     "execution_count": 3,
     "metadata": {},
     "output_type": "execute_result"
    }
   ],
   "source": [
    "tf.__version__"
   ]
  },
  {
   "cell_type": "code",
   "execution_count": 9,
   "metadata": {},
   "outputs": [],
   "source": [
    "z_dim = 100\n",
    "batch_size = 128\n",
    "ng_batches = 1\n",
    "ns_batches = 5\n",
    "attn_beta = 250\n",
    "total_n_pseudo_batches = 3\n",
    "n_generator_items = ng_batches + ns_batches\n",
    "student_lr = 2e-3\n",
    "generator_lr = 1e-3\n",
    "number_of_batches = 3\n",
    "\n",
    "teacher = WideResidualNetwork(16, 1, input_shape=(32, 32, 3), dropout_rate=0.0, output_activations=True)\n",
    "teacher.load_weights('saved_models/cifar10_WRN-16-1_model.005.h5')\n",
    "teacher.trainable = False\n",
    "\n",
    "student = WideResidualNetwork(16, 1, input_shape=(32, 32, 3), dropout_rate=0.0, output_activations=True)\n",
    "student_optimizer = Adam(learning_rate=CosineDecay(student_lr, number_of_batches))\n",
    "\n",
    "generator = NavieGenerator(input_dim=100)\n",
    "generator_optimizer = Adam(learning_rate=CosineDecay(generator_lr, number_of_batches))\n",
    "\n",
    "# Generator loss metrics\n",
    "g_loss_met = tf.keras.metrics.Mean()\n",
    "# Student loss metrics\n",
    "stu_loss_met = tf.keras.metrics.Mean()"
   ]
  },
  {
   "cell_type": "code",
   "execution_count": 10,
   "metadata": {},
   "outputs": [
    {
     "name": "stdout",
     "output_type": "stream",
     "text": [
      "step 0: generator mean loss = tf.Tensor(0.016730428, shape=(), dtype=float32)\n",
      "step 0-0: studnt mean loss = tf.Tensor(0.016759966, shape=(), dtype=float32)\n",
      "step 0-1: studnt mean loss = tf.Tensor(0.016232062, shape=(), dtype=float32)\n",
      "step 0-2: studnt mean loss = tf.Tensor(0.015124943, shape=(), dtype=float32)\n",
      "step 0-3: studnt mean loss = tf.Tensor(0.014083632, shape=(), dtype=float32)\n",
      "step 0-4: studnt mean loss = tf.Tensor(0.013458845, shape=(), dtype=float32)\n",
      "step 1: generator mean loss = tf.Tensor(0.01038218, shape=(), dtype=float32)\n",
      "step 1-0: studnt mean loss = tf.Tensor(0.01189079, shape=(), dtype=float32)\n",
      "step 1-1: studnt mean loss = tf.Tensor(0.010770751, shape=(), dtype=float32)\n",
      "step 1-2: studnt mean loss = tf.Tensor(0.0099307215, shape=(), dtype=float32)\n",
      "step 1-3: studnt mean loss = tf.Tensor(0.009277365, shape=(), dtype=float32)\n",
      "step 1-4: studnt mean loss = tf.Tensor(0.00875468, shape=(), dtype=float32)\n",
      "step 2: generator mean loss = tf.Tensor(0.008025792, shape=(), dtype=float32)\n",
      "step 2-0: studnt mean loss = tf.Tensor(0.00826159, shape=(), dtype=float32)\n",
      "step 2-1: studnt mean loss = tf.Tensor(0.007850681, shape=(), dtype=float32)\n",
      "step 2-2: studnt mean loss = tf.Tensor(0.007502989, shape=(), dtype=float32)\n",
      "step 2-3: studnt mean loss = tf.Tensor(0.0072049676, shape=(), dtype=float32)\n",
      "step 2-4: studnt mean loss = tf.Tensor(0.006946682, shape=(), dtype=float32)\n"
     ]
    }
   ],
   "source": [
    "for total_batches in range(total_n_pseudo_batches):\n",
    "    # sample from latern space to make an image\n",
    "    z = tf.random.normal([batch_size, z_dim])\n",
    "\n",
    "    # Generator training\n",
    "    generator.trainable = True\n",
    "    student.trainable = False\n",
    "    for ng in range(ng_batches):\n",
    "        with tf.GradientTape() as tape:\n",
    "            pseudo_imgs = generator(z)\n",
    "            t_logits, *_ = teacher(pseudo_imgs)\n",
    "            s_logits, *_ = student(pseudo_imgs)\n",
    "\n",
    "            # calculate the generator loss\n",
    "            loss = -kd_loss(tf.math.softmax(t_logits),\n",
    "                                     tf.math.softmax(s_logits))\n",
    "\n",
    "        # The grad for generator\n",
    "        grads = tape.gradient(loss, generator.trainable_weights)\n",
    "\n",
    "        # update the generator paramter with the gradient\n",
    "        generator_optimizer.apply_gradients(zip(grads, generator.trainable_weights))\n",
    "\n",
    "        g_loss_met(loss)\n",
    "\n",
    "        print('step %s: generator mean loss = %s' % (total_batches, g_loss_met.result()))\n",
    "    # ==========================================================================\n",
    "\n",
    "    # Student training\n",
    "    generator.trainable = False\n",
    "    student.trainable = True\n",
    "    for ns in range(ns_batches):\n",
    "\n",
    "        t_logits, *t_acts = teacher(pseudo_imgs)\n",
    "        with tf.GradientTape() as tape:\n",
    "            s_logits, *s_acts = student(pseudo_imgs)\n",
    "            loss = student_loss_fn(tf.math.softmax(t_logits), t_acts, tf.math.softmax(s_logits), s_acts, attn_beta)\n",
    "\n",
    "        # The grad for student\n",
    "        grads = tape.gradient(loss, student.trainable_weights)\n",
    "\n",
    "        # Apply grad for student\n",
    "        student_optimizer.apply_gradients(zip(grads, student.trainable_weights))\n",
    "\n",
    "        stu_loss_met(loss)\n",
    "\n",
    "        print('step %s-%s: studnt mean loss = %s' % (total_batches, ns, stu_loss_met.result()))\n"
   ]
  },
  {
   "cell_type": "code",
   "execution_count": 11,
   "metadata": {},
   "outputs": [],
   "source": [
    "(x_train, y_train), (x_test, y_test) = tf.keras.datasets.cifar10.load_data()"
   ]
  },
  {
   "cell_type": "code",
   "execution_count": 24,
   "metadata": {},
   "outputs": [
    {
     "data": {
      "text/plain": [
       "array([[[0.2878878 , 0.28590465, 0.31548318],\n",
       "        [0.28407958, 0.2819691 , 0.3121397 ],\n",
       "        [0.28329298, 0.28107843, 0.3115068 ],\n",
       "        ...,\n",
       "        [0.28379878, 0.28180113, 0.312042  ],\n",
       "        [0.2850664 , 0.28308594, 0.31296697],\n",
       "        [0.28699955, 0.28499833, 0.3142848 ]],\n",
       "\n",
       "       [[0.28503835, 0.28301004, 0.31331933],\n",
       "        [0.28181496, 0.2797545 , 0.3105574 ],\n",
       "        [0.28050894, 0.27834976, 0.30936906],\n",
       "        ...,\n",
       "        [0.2802267 , 0.2783556 , 0.30931875],\n",
       "        [0.2818469 , 0.27998322, 0.31062594],\n",
       "        [0.28387433, 0.28186673, 0.31181505]],\n",
       "\n",
       "       [[0.28229436, 0.28026143, 0.3105508 ],\n",
       "        [0.27865094, 0.27673486, 0.30747628],\n",
       "        [0.27674127, 0.27466908, 0.30549774],\n",
       "        ...,\n",
       "        [0.2763604 , 0.27458864, 0.3056128 ],\n",
       "        [0.27819574, 0.27650353, 0.3071304 ],\n",
       "        [0.28067303, 0.2787829 , 0.30858272]],\n",
       "\n",
       "       ...,\n",
       "\n",
       "       [[0.2520456 , 0.24317743, 0.2571024 ],\n",
       "        [0.24767458, 0.23855966, 0.2517179 ],\n",
       "        [0.24632809, 0.23727813, 0.24972591],\n",
       "        ...,\n",
       "        [0.24636386, 0.23725945, 0.24995875],\n",
       "        [0.24745996, 0.23825622, 0.25182128],\n",
       "        [0.24988642, 0.2406873 , 0.25472862]],\n",
       "\n",
       "       [[0.25397155, 0.24495745, 0.2588957 ],\n",
       "        [0.24996929, 0.24064967, 0.25410718],\n",
       "        [0.24836294, 0.23907015, 0.2520588 ],\n",
       "        ...,\n",
       "        [0.24862142, 0.2393154 , 0.25232273],\n",
       "        [0.24959363, 0.24027127, 0.25381234],\n",
       "        [0.25235847, 0.24325286, 0.25712422]],\n",
       "\n",
       "       [[0.2563885 , 0.24743783, 0.26116094],\n",
       "        [0.2520635 , 0.24291486, 0.2563322 ],\n",
       "        [0.25048745, 0.24135536, 0.25470993],\n",
       "        ...,\n",
       "        [0.25080234, 0.24153104, 0.254486  ],\n",
       "        [0.25168055, 0.24246882, 0.25573015],\n",
       "        [0.25461122, 0.2456822 , 0.2591234 ]]], dtype=float32)"
      ]
     },
     "execution_count": 24,
     "metadata": {},
     "output_type": "execute_result"
    }
   ],
   "source": [
    "(x_train.astype('float32')/255.).std(0)"
   ]
  },
  {
   "cell_type": "code",
   "execution_count": null,
   "metadata": {},
   "outputs": [],
   "source": []
  },
  {
   "cell_type": "code",
   "execution_count": null,
   "metadata": {},
   "outputs": [],
   "source": []
  },
  {
   "cell_type": "code",
   "execution_count": null,
   "metadata": {},
   "outputs": [],
   "source": []
  },
  {
   "cell_type": "code",
   "execution_count": null,
   "metadata": {},
   "outputs": [],
   "source": []
  },
  {
   "cell_type": "code",
   "execution_count": null,
   "metadata": {},
   "outputs": [],
   "source": []
  },
  {
   "cell_type": "code",
   "execution_count": null,
   "metadata": {},
   "outputs": [],
   "source": []
  }
 ],
 "metadata": {
  "kernelspec": {
   "display_name": "Python 3",
   "language": "python",
   "name": "python3"
  },
  "language_info": {
   "codemirror_mode": {
    "name": "ipython",
    "version": 3
   },
   "file_extension": ".py",
   "mimetype": "text/x-python",
   "name": "python",
   "nbconvert_exporter": "python",
   "pygments_lexer": "ipython3",
   "version": "3.6.9"
  }
 },
 "nbformat": 4,
 "nbformat_minor": 2
}
