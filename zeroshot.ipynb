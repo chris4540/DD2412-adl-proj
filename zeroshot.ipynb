{
 "cells": [
  {
   "cell_type": "code",
   "execution_count": 5,
   "metadata": {},
   "outputs": [],
   "source": [
    "import tensorflow as tf\n",
    "from net.generator import *\n",
    "from utils.cosine_anealing import *\n",
    "#from utils.losses import *\n",
    "from tensorflow.keras.optimizers import Adam\n",
    "\n",
    "from net.wide_resnet import WideResidualNetwork\n",
    "from train_scratch import *\n",
    "import numpy as np"
   ]
  },
  {
   "cell_type": "code",
   "execution_count": 6,
   "metadata": {},
   "outputs": [
    {
     "data": {
      "text/plain": [
       "'2.0.0'"
      ]
     },
     "execution_count": 6,
     "metadata": {},
     "output_type": "execute_result"
    }
   ],
   "source": [
    "tf.__version__"
   ]
  },
  {
   "cell_type": "code",
   "execution_count": 8,
   "metadata": {},
   "outputs": [],
   "source": [
    "z_dim = 100\n",
    "batch_size = 128\n",
    "ng_batches = 1\n",
    "ns_batches = 10\n",
    "attn_beta = 250\n",
    "total_n_pseudo_batches = 10\n",
    "n_generator_items = ng_batches + ns_batches\n",
    "total_batches = 0\n",
    "student_lr = 2e-3\n",
    "generator_lr = 1e-3\n",
    "number_of_batches = 10\n",
    "\n",
    "teacher_model = WideResidualNetwork(16, 1, input_shape=(32, 32, 3), dropout_rate=0.0, output_activations=True)\n",
    "teacher_model.load_weights('saved_models/cifar10_WRN-16-1_model.005.h5')\n",
    "\n",
    "student_model = WideResidualNetwork(16, 1, input_shape=(32, 32, 3), dropout_rate=0.0, output_activations=True)\n",
    "student_optimizer=Adam(learning_rate=student_lr)\n",
    "student_scheduler = CosineAnnealingScheduler(T_max=number_of_batches, eta_max=student_lr, eta_min=0)\n",
    "\n",
    "generator_model = generator(100)\n",
    "generator_optimizer=Adam(learning_rate=generator_lr)\n",
    "generator_scheduler = CosineAnnealingScheduler(T_max=number_of_batches, eta_max=generator_lr, eta_min=0)\n",
    "\n",
    "student_model.trainable = True\n",
    "teacher_model.trainable = False\n",
    "generator_model.trainable = True\n",
    "\n",
    "gen_loss_metric = tf.keras.metrics.Mean()\n",
    "stu_loss_metric = tf.keras.metrics.Mean()\n",
    "\n",
    "def cosine_lr_schedule(epoch, T_max, eta_max, eta_min=0):\n",
    "    lr = eta_min + (eta_max - eta_min) * (1 + math.cos(math.pi * epoch / T_max)) / 2\n",
    "    return lr"
   ]
  },
  {
   "cell_type": "markdown",
   "metadata": {},
   "source": [
    "# algo 1\n",
    "\n",
    "    for total_batches in range(total_n_pseudo_batches):\n",
    "    \n",
    "        z = tf.random.normal([batch_size, z_dim])\n",
    "        pseudo_images = get_gen_images(z)\n",
    "        teacher_logits, *teacher_activations = get_model_outputs(teacher_model, pseudo_images, mode=0)\n",
    "\n",
    "        #generator training\n",
    "        for ng in range(ng_batches):\n",
    "            student_logits, *student_activations = get_model_outputs(student_model, pseudo_images, mode=1)\n",
    "            generator_loss = generator_loss(teacher_logits, student_logits)\n",
    "\n",
    "            #################################\n",
    "            # BACK PROP AND tick schedulers #\n",
    "            #################################  \n",
    "\n",
    "        for ns in range(ns_batches):\n",
    "            student_logits, *student_activations = get_model_outputs(student_model, pseudo_images, mode=1)\n",
    "            student_loss = student_loss(teacher_logits, teacher_activations, \n",
    "                                        student_logits, student_activations, attn_beta)\n",
    "\n",
    "            #################################\n",
    "            # BACK PROP AND tick schedulers #\n",
    "            #################################   \n",
    "\n",
    "        ######################################################\n",
    "        ### Val accuracy computation and best model saving ###\n",
    "        ######################################################    "
   ]
  },
  {
   "cell_type": "code",
   "execution_count": 9,
   "metadata": {},
   "outputs": [],
   "source": [
    "# output_layer_names = ['logits', 'attention1', 'attention2', 'attention3']\n",
    "# t_model = Model(teacher_model.input, [teacher_model.get_layer(l).output for l in output_layer_names])\n",
    "# s_model = Model(student_model.input, [student_model.get_layer(l).output for l in output_layer_names])"
   ]
  },
  {
   "cell_type": "code",
   "execution_count": null,
   "metadata": {},
   "outputs": [],
   "source": [
    "for total_batches in range(total_n_pseudo_batches):\n",
    "    z = tf.random.normal([batch_size, z_dim])\n",
    "    #pseudo_images = generator_model(z)\n",
    "    #teacher_logits, *teacher_activations = get(teacher_model, pseudo_images, mode=0)\n",
    "    #teacher_logits, *teacher_activations = t_model(pseudo_images)\n",
    "\n",
    "    #generator training\n",
    "    for ng in range(ng_batches):\n",
    "        with tf.GradientTape() as gtape:\n",
    "            pseudo_images = generator_model(z)\n",
    "            teacher_logits, *teacher_activations = teacher_model(pseudo_images)\n",
    "            student_logits, *student_activations = student_model(pseudo_images)\n",
    "            generator_loss = kd_loss(tf.math.softmax(teacher_logits), tf.math.softmax(student_logits))\n",
    "\n",
    "        gen_grads = gtape.gradient(generator_loss, generator_model.trainable_weights)\n",
    "        \n",
    "        #cosine annealing for learning rate\n",
    "        generator_optimizer.learning_rate = cosine_lr_schedule(total_batches, total_n_pseudo_batches, generator_lr)\n",
    "        \n",
    "        #update gradient\n",
    "        generator_optimizer.apply_gradients(zip(gen_grads, generator_model.trainable_weights))\n",
    "\n",
    "        gen_loss_metric(generator_loss)\n",
    "\n",
    "        if total_batches % 2 == 0:\n",
    "            print('step %s: generator mean loss = %s' % (total_batches, gen_loss_metric.result()))\n",
    "    \n",
    "#     for ns in range(2):\n",
    "#         with tf.GradientTape() as stape:\n",
    "#             pseudo_images = generator_model(z)\n",
    "#             teacher_logits, *teacher_activations = t_model(pseudo_images)\n",
    "#             student_logits, *student_activations = s_model(pseudo_images)\n",
    "#             student_loss = student_loss(teacher_logits, teacher_activations, \n",
    "#                                 student_logits, student_activations)\n",
    "\n",
    "#         st_grads = stape.gradient(generator_loss, s_model.trainable_weights)\n",
    "        \n",
    "#         student_optimizer.learning_rate = cosine_lr_schedule(total_batches, total_n_pseudo_batches, student_lr)\n",
    "#         student_optimizer.apply_gradients(zip(st_grads, s_model.trainable_weights))\n",
    "\n",
    "#         stu_loss_metric(student_loss)\n",
    "\n",
    "#         if total_batches % 2 == 0:\n",
    "#             print('step %s: studnt mean loss = %s' % (total_batches, stu_loss_metric.result()))\n",
    "    "
   ]
  },
  {
   "cell_type": "code",
   "execution_count": null,
   "metadata": {},
   "outputs": [],
   "source": []
  }
 ],
 "metadata": {
  "kernelspec": {
   "display_name": "Python 3",
   "language": "python",
   "name": "python3"
  },
  "language_info": {
   "codemirror_mode": {
    "name": "ipython",
    "version": 3
   },
   "file_extension": ".py",
   "mimetype": "text/x-python",
   "name": "python",
   "nbconvert_exporter": "python",
   "pygments_lexer": "ipython3",
   "version": "3.6.9"
  }
 },
 "nbformat": 4,
 "nbformat_minor": 2
}
